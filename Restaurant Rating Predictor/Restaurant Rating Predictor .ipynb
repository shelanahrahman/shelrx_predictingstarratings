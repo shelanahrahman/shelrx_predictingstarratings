{
 "cells": [
  {
   "cell_type": "markdown",
   "metadata": {},
   "source": [
    "**Project: Restaurant Rating Predictor**\n",
    "\n",
    "**Name:**    `Shelanah Rahman`\n"
   ]
  },
  {
   "cell_type": "code",
   "execution_count": 6,
   "metadata": {},
   "outputs": [],
   "source": [
    "import numpy as np\n",
    "import pandas as pd\n",
    "from sklearn.feature_selection import SelectKBest, chi2, mutual_info_classif\n",
    "import matplotlib.pyplot as plt\n",
    "from sklearn.tree import DecisionTreeClassifier\n",
    "from sklearn.neighbors import KNeighborsClassifier\n",
    "from sklearn.naive_bayes import GaussianNB, MultinomialNB\n",
    "import pickle\n",
    "import scipy\n",
    "from sklearn.model_selection import train_test_split\n",
    "from sklearn.linear_model import LogisticRegression"
   ]
  },
  {
   "cell_type": "code",
   "execution_count": 7,
   "metadata": {},
   "outputs": [],
   "source": [
    "#Stacking Classifier algorithm that takes input of metaclassifier and list of baseclassifiers\n",
    "from sklearn.metrics import accuracy_score\n",
    "\n",
    "np.random.seed(1)\n",
    "\n",
    "class StackingClassifier():\n",
    "\n",
    "    def __init__(self, classifiers, metaclassifier):\n",
    "        self.classifiers = classifiers\n",
    "        self.metaclassifier = metaclassifier\n",
    "\n",
    "    def fit(self, X, y):\n",
    "        for clf in self.classifiers:\n",
    "            clf.fit(X, y)\n",
    "        X_meta = self._predict_base(X)\n",
    "        self.metaclassifier.fit(X_meta, y)\n",
    "    \n",
    "    def _predict_base(self, X):\n",
    "        yhats = []\n",
    "        for clf in self.classifiers:\n",
    "            yhat = clf.predict_proba(X)\n",
    "            yhats.append(yhat)\n",
    "        yhats = np.concatenate(yhats, axis=1)\n",
    "        assert yhats.shape[0] == X.shape[0]\n",
    "        return yhats\n",
    "    \n",
    "    def predict(self, X):\n",
    "        X_meta = self._predict_base(X)     \n",
    "        yhat = self.metaclassifier.predict(X_meta)\n",
    "        return yhat\n",
    "    def score(self, X, y):\n",
    "        yhat = self.predict(X)\n",
    "        return accuracy_score(y, yhat)\n",
    "    "
   ]
  },
  {
   "cell_type": "code",
   "execution_count": 8,
   "metadata": {},
   "outputs": [],
   "source": [
    "#Save list of Class\n",
    "X_train_meta = pd.read_csv(\"review_meta_train.csv\")\n",
    "y = X_train_meta.iloc[:,-1]\n"
   ]
  },
  {
   "cell_type": "code",
   "execution_count": 10,
   "metadata": {},
   "outputs": [],
   "source": [
    "# Open converted data\n",
    "vocab = pickle.load(open(\"review_text_features_countvec/train_countvectorizer.pkl\", \"rb\"))\n",
    "vocab_dict = vocab.vocabulary_\n",
    "X= scipy.sparse.load_npz('review_text_features_countvec/review_text_train_vec.npz')\n",
    "X_train, X_test, y_train, y_test = train_test_split(X, y, test_size=0.4, random_state=0)\n",
    "# Save Test data to predict class \n",
    "X_pred= scipy.sparse.load_npz('review_text_features_countvec/review_text_test_vec.npz')"
   ]
  },
  {
   "cell_type": "code",
   "execution_count": 11,
   "metadata": {},
   "outputs": [
    {
     "name": "stdout",
     "output_type": "stream",
     "text": [
      "Training size:  16840 \n",
      "Testing size: 11228\n"
     ]
    }
   ],
   "source": [
    "#### find top 1000 features\n",
    "k=1000\n",
    "x2 = SelectKBest(chi2, k=k)\n",
    "X_train_x2 = x2.fit_transform(X_train, y_train)\n",
    "X_test_x2 = x2.transform(X_test)\n",
    "print(\"Training size: \", X_train_x2.shape[0], \"\\nTesting size:\", X_test_x2.shape[0])"
   ]
  },
  {
   "cell_type": "code",
   "execution_count": 12,
   "metadata": {},
   "outputs": [
    {
     "name": "stdout",
     "output_type": "stream",
     "text": [
      "\n",
      " MNB (with k= 1000 features):\n",
      "x2 \t acc 0.8362130388314927\n",
      "\n",
      " Logistic Regression (with k= 1000 features):\n"
     ]
    },
    {
     "name": "stderr",
     "output_type": "stream",
     "text": [
      "/Users/shelanahrahman/opt/anaconda3/lib/python3.7/site-packages/sklearn/linear_model/logistic.py:432: FutureWarning: Default solver will be changed to 'lbfgs' in 0.22. Specify a solver to silence this warning.\n",
      "  FutureWarning)\n",
      "/Users/shelanahrahman/opt/anaconda3/lib/python3.7/site-packages/sklearn/linear_model/logistic.py:469: FutureWarning: Default multi_class will be changed to 'auto' in 0.22. Specify the multi_class option to silence this warning.\n",
      "  \"this warning.\", FutureWarning)\n"
     ]
    },
    {
     "name": "stdout",
     "output_type": "stream",
     "text": [
      "x2 \t acc 0.84244745279658\n"
     ]
    }
   ],
   "source": [
    "#Save base classifiers and print the accuracy out\n",
    "models = [MultinomialNB(),\n",
    "         LogisticRegression()]\n",
    "titles = ['MNB',\n",
    "         'Logistic Regression']\n",
    "\n",
    "\n",
    "for title, model in zip(titles, models):\n",
    "    print('\\n',title, '(with k=',k,'features):')\n",
    "    model.fit(X_train_x2.todense(), y_train)\n",
    "    acc = model.score(X_test_x2.todense(), y_test)\n",
    "    print('x2', '\\t acc',  acc)\n",
    "    \n"
   ]
  },
  {
   "cell_type": "code",
   "execution_count": 13,
   "metadata": {},
   "outputs": [
    {
     "name": "stderr",
     "output_type": "stream",
     "text": [
      "/Users/shelanahrahman/opt/anaconda3/lib/python3.7/site-packages/sklearn/linear_model/logistic.py:432: FutureWarning: Default solver will be changed to 'lbfgs' in 0.22. Specify a solver to silence this warning.\n",
      "  FutureWarning)\n",
      "/Users/shelanahrahman/opt/anaconda3/lib/python3.7/site-packages/sklearn/linear_model/logistic.py:469: FutureWarning: Default multi_class will be changed to 'auto' in 0.22. Specify the multi_class option to silence this warning.\n",
      "  \"this warning.\", FutureWarning)\n"
     ]
    },
    {
     "name": "stdout",
     "output_type": "stream",
     "text": [
      "\n",
      "Decision Tree \n",
      "Stacker Accuracy: 0.8288208051300321\n"
     ]
    },
    {
     "name": "stderr",
     "output_type": "stream",
     "text": [
      "/Users/shelanahrahman/opt/anaconda3/lib/python3.7/site-packages/sklearn/linear_model/logistic.py:432: FutureWarning: Default solver will be changed to 'lbfgs' in 0.22. Specify a solver to silence this warning.\n",
      "  FutureWarning)\n",
      "/Users/shelanahrahman/opt/anaconda3/lib/python3.7/site-packages/sklearn/linear_model/logistic.py:469: FutureWarning: Default multi_class will be changed to 'auto' in 0.22. Specify the multi_class option to silence this warning.\n",
      "  \"this warning.\", FutureWarning)\n"
     ]
    },
    {
     "name": "stdout",
     "output_type": "stream",
     "text": [
      "\n",
      "Gaussian Naive Bayes \n",
      "Stacker Accuracy: 0.8341645885286783\n"
     ]
    }
   ],
   "source": [
    "#print the accuracy of a meta classifiers\n",
    "meta_classifiers = [DecisionTreeClassifier(),\n",
    "                    GaussianNB()]\n",
    "meta_titles= ['\\nDecision Tree', '\\nGaussian Naive Bayes']\n",
    "y_pred_lst = []\n",
    "for meta_classifier, meta_title in zip(meta_classifiers, meta_titles):\n",
    "    stacker = StackingClassifier(models, meta_classifier)\n",
    "    stacker.fit(X_train.todense(), y_train)\n",
    "    print(meta_title, '\\nStacker Accuracy:', stacker.score(X_test.todense(), y_test))\n",
    "    #predict the classes of the testing data\n",
    "    y_pred = stacker.predict(X_pred.todense())\n",
    "    y_pred= y_pred.tolist()\n",
    "    y_pred_lst.append(y_pred)"
   ]
  },
  {
   "cell_type": "code",
   "execution_count": 14,
   "metadata": {},
   "outputs": [],
   "source": [
    "#save class list into a file\n",
    "inst_id_col= []\n",
    "for i in range(1,len(y_pred_lst[0])+1):\n",
    "    inst_id_col.append(i)\n",
    "df= pd.DataFrame({'Instance_id': inst_id_col, 'rating': y_pred_lst[0]})\n",
    "df.to_csv('rating_predictions_dec.csv', index=False)\n",
    "df= pd.DataFrame({'Instance_id': inst_id_col, 'rating': y_pred_lst[1]})\n",
    "df.to_csv('rating_predictions_NB.csv', index=False)"
   ]
  }
 ],
 "metadata": {
  "kernelspec": {
   "display_name": "Python 3",
   "language": "python",
   "name": "python3"
  },
  "language_info": {
   "codemirror_mode": {
    "name": "ipython",
    "version": 3
   },
   "file_extension": ".py",
   "mimetype": "text/x-python",
   "name": "python",
   "nbconvert_exporter": "python",
   "pygments_lexer": "ipython3",
   "version": "3.7.4"
  }
 },
 "nbformat": 4,
 "nbformat_minor": 2
}
